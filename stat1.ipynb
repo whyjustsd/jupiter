{
 "cells": [
  {
   "cell_type": "code",
   "execution_count": null,
   "id": "4526fcc7-e2b4-44ff-b278-5917e23a74e6",
   "metadata": {},
   "outputs": [],
   "source": [
    "'''Q1. What is Statistics?\n",
    "ans.Statistics is a branch of mathematics that deals with the study of collecting,\n",
    "analyzing,interpreting, presenting, and organizing data in a particular manner. \n",
    "Statistics is defined as the process of collection of data,classifying data, representing the data for easy interpretation, and further analysis of data'''"
   ]
  },
  {
   "cell_type": "code",
   "execution_count": null,
   "id": "831d2d68-8c11-44f8-b685-30c11c379c83",
   "metadata": {},
   "outputs": [],
   "source": [
    "'''Define the different types of statistics and give an example of when each type might be used.\n",
    "ans.There are two kinds of Statistics, which are descriptive Statistics and inferential Statistics. In descriptive Statistics, \n",
    "the Data or Collection Data are described in a summarized way, \n",
    "whereas in inferential Statistics, we make use of it in order to explain the descriptive kind. Both of them are used on a large scale.'''"
   ]
  },
  {
   "cell_type": "code",
   "execution_count": null,
   "id": "1d20fa9c-783a-4cd4-9c56-23f8decc52b3",
   "metadata": {},
   "outputs": [],
   "source": [
    "'''What are the different types of data and how do they differ from each other? Provide an example of\n",
    "each type of data.\n",
    "ans. '''\n",
    "work/types-of-data-.png\n",
    "\n"
   ]
  },
  {
   "cell_type": "code",
   "execution_count": null,
   "id": "7dff036c-1c35-45c2-8f37-8638f93b2f6d",
   "metadata": {},
   "outputs": [],
   "source": [
    "'''Q4. Categorise the following datasets with respect to quantitative and qualitative data types:\n",
    "(i) Grading in exam: A+, A, B+, B, C+, C, D, E\n",
    "(ii) Colour of mangoes: yellow, green, orange, red\n",
    "(iii) Height data of a class: [178.9, 179, 179.5, 176, 177.2, 178.3, 175.8,...]\n",
    "(iv) Number of mangoes exported by a farm: [500, 600, 478, 672, ...]\n",
    "\n",
    "ans.\n",
    "1.qualitive\n",
    "2.qualitive\n",
    "3.quantitive\n",
    "4.quantitive'''"
   ]
  },
  {
   "cell_type": "code",
   "execution_count": null,
   "id": "1e8b4dd6-1ba0-40ab-9d53-20cc85501daf",
   "metadata": {},
   "outputs": [],
   "source": [
    "'''Why is it important to understand the level of measurement when analyzing data? Provide an\n",
    "example to illustrate your answer.\n",
    "It is important to understand the level of measurement of variables in research, because the level of measurement determines the type of statistical analysis that can be conducted, \n",
    "and, therefore, the type of conclusions that can be drawn from the research.'''"
   ]
  },
  {
   "cell_type": "code",
   "execution_count": null,
   "id": "87f6fd22-170c-49c1-9924-ee3d2f86cb7e",
   "metadata": {},
   "outputs": [],
   "source": [
    "'''How nominal data type is different from ordinal data type.\n",
    "ans.Nominal data is classified without a natural order or rank, \n",
    "whereas ordinal data has a predetermined or natural order. On the other hand, numerical or quantitative data will always be a number that can be measured.'''"
   ]
  },
  {
   "cell_type": "code",
   "execution_count": null,
   "id": "f2e494b4-59e4-457b-a9ab-1a07c112b897",
   "metadata": {},
   "outputs": [],
   "source": [
    "'''Q8. Which type of plot can be used to display data in terms of range?\n",
    "Histogram'''"
   ]
  },
  {
   "cell_type": "code",
   "execution_count": null,
   "id": "a37b80dc-30f6-4df8-a00c-5a2e279e8e50",
   "metadata": {},
   "outputs": [],
   "source": []
  }
 ],
 "metadata": {
  "kernelspec": {
   "display_name": "Python 3 (ipykernel)",
   "language": "python",
   "name": "python3"
  },
  "language_info": {
   "codemirror_mode": {
    "name": "ipython",
    "version": 3
   },
   "file_extension": ".py",
   "mimetype": "text/x-python",
   "name": "python",
   "nbconvert_exporter": "python",
   "pygments_lexer": "ipython3",
   "version": "3.10.8"
  }
 },
 "nbformat": 4,
 "nbformat_minor": 5
}
